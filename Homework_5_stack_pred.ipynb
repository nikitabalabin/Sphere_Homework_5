{
 "cells": [
  {
   "cell_type": "code",
   "execution_count": 1,
   "metadata": {},
   "outputs": [],
   "source": [
    "import numpy as np\n",
    "import pandas as pd\n",
    "\n",
    "import sklearn.metrics\n",
    "import sklearn.datasets\n",
    "import sklearn.model_selection\n",
    "\n",
    "import sklearn.tree\n",
    "import sklearn.linear_model\n",
    "\n",
    "import matplotlib.pyplot as plt\n",
    "%matplotlib inline"
   ]
  },
  {
   "cell_type": "markdown",
   "metadata": {},
   "source": [
    "# Реализация функции"
   ]
  },
  {
   "cell_type": "code",
   "execution_count": 2,
   "metadata": {},
   "outputs": [],
   "source": [
    "def stack_pred(estimator,X,y,Xt,yt,k,method):\n",
    "    kf = sklearn.model_selection.KFold(n_splits=k, shuffle=True, random_state=0)\n",
    "    \n",
    "    ## Определим функцию голосования (в спорных моментах выигрывает класс имеющий наименьшее значение, то есть из [0,2,3] выигрывает 0)\n",
    "    def voting(x,classes):\n",
    "        buf = []\n",
    "        for row in x:\n",
    "            #print(row)\n",
    "            dct={}\n",
    "            for clas in classes:\n",
    "                dct[clas]=0\n",
    "            for i in row:\n",
    "                dct[i]+=1\n",
    "            #print(dct)\n",
    "            #print(max(dct,key=dct.get))\n",
    "            buf.append(max(dct,key=dct.get))\n",
    "        return np.array(buf,dtype='int32')\n",
    "\n",
    "\n",
    "    \n",
    "    ## Инициализируем стэкинги нулями, с размерностями, соответсвующими методам.\n",
    "    ## То есть одномерный вектор для predict и матрица вероятностей для predict_proba\n",
    "    \n",
    "    if method == 'predict':\n",
    "        sX=np.zeros(shape=(X.shape[0]),dtype='int32')\n",
    "        sXt=np.zeros(shape=(Xt.shape[0]),dtype='int32')\n",
    "        vote=np.zeros(shape=(Xt.shape[0]),dtype='int32')\n",
    "\n",
    "    elif method == 'predict_proba':\n",
    "        sX=np.zeros(shape=(X.shape[0],np.unique(y).shape[0]),dtype='float32')\n",
    "        sXt=np.zeros(shape=(Xt.shape[0],np.unique(y).shape[0]),dtype='float32')\n",
    "        vote=np.zeros(shape=(Xt.shape[0],np.unique(y).shape[0]),dtype='float32')\n",
    "\n",
    "    else:\n",
    "        print('Incorrect method!')\n",
    "        return -1\n",
    "    \n",
    "    \n",
    "    ## Осуществляем кросс-валидацию\n",
    "    \n",
    "    scores=[]\n",
    "    for train_index, test_index in kf.split(X):\n",
    "        X_train, X_test = X[train_index], X[test_index]\n",
    "        y_train, y_test = y[train_index], y[test_index]\n",
    "        estimator.fit(X_train, y_train)\n",
    "        \n",
    "        if method == 'predict':\n",
    "            pred = estimator.predict(X_test)\n",
    "            predt = estimator.predict(Xt)\n",
    "            vote = np.concatenate([vote,predt])\n",
    "            scores.append(sklearn.metrics.accuracy_score(yt, predt))\n",
    "\n",
    "        elif method == 'predict_proba':\n",
    "            pred = estimator.predict_proba(X_test)\n",
    "            predt = estimator.predict_proba(Xt)\n",
    "            vote += predt\n",
    "        \n",
    "        ## Записваем результаты в наш трэйн-стэкинг.\n",
    "        sX[test_index]=pred\n",
    "    \n",
    "    \n",
    "    if method == 'predict': ## осущесвляем голосование по принцпу \"кто больше\"\n",
    "        #print(scores)\n",
    "        vote = vote.reshape(k+1,yt.shape[0]) \n",
    "        vote = np.transpose(vote[1:])\n",
    "        vote = voting(vote,np.unique(y))\n",
    "        \n",
    "    elif method == 'predict_proba': ## смотрим среднее арифмитеческое вероятностей\n",
    "        vote/=k\n",
    "        \n",
    "    \n",
    "    ## Записваем результаты в наш тест-стэкинг.       \n",
    "    sXt=vote\n",
    "    \n",
    "    print('Done!')\n",
    "    \n",
    "    return sX,sXt"
   ]
  },
  {
   "cell_type": "markdown",
   "metadata": {},
   "source": [
    "# Пример"
   ]
  },
  {
   "cell_type": "markdown",
   "metadata": {},
   "source": [
    "Загрузка и разбиение данных:"
   ]
  },
  {
   "cell_type": "code",
   "execution_count": 3,
   "metadata": {},
   "outputs": [],
   "source": [
    "X_full, y_full = sklearn.datasets.load_breast_cancer(return_X_y=True)"
   ]
  },
  {
   "cell_type": "code",
   "execution_count": 4,
   "metadata": {},
   "outputs": [],
   "source": [
    "X, Xt, y, yt = sklearn.model_selection.train_test_split(X_full, y_full, test_size=0.25, random_state=0)"
   ]
  },
  {
   "cell_type": "markdown",
   "metadata": {},
   "source": [
    "Рассмотрим в качестве примеров эстиматоров решающее дерево и логистическую регрессию."
   ]
  },
  {
   "cell_type": "code",
   "execution_count": 5,
   "metadata": {},
   "outputs": [],
   "source": [
    "clf_lr = sklearn.linear_model.LogisticRegression(solver='lbfgs',max_iter=3000)\n",
    "clf_dt = sklearn.tree.DecisionTreeClassifier(random_state=0, min_samples_split=8, min_samples_leaf=4)"
   ]
  },
  {
   "cell_type": "markdown",
   "metadata": {},
   "source": [
    "#### method = 'predict'"
   ]
  },
  {
   "cell_type": "code",
   "execution_count": 6,
   "metadata": {},
   "outputs": [
    {
     "name": "stdout",
     "output_type": "stream",
     "text": [
      "Done!\n",
      "Done!\n",
      "(426,) (143,)\n",
      "[1 1 1 0 1]\n",
      "[1 1 1 1 1]\n"
     ]
    }
   ],
   "source": [
    "sx_dt,sxt_dt=stack_pred(clf_dt,X,y,Xt,yt,5,'predict')\n",
    "sx_lr,sxt_lr=stack_pred(clf_lr,X,y,Xt,yt,5,'predict')\n",
    "print(sx_dt.shape,sxt_dt.shape)\n",
    "print(sx_dt[5:10])\n",
    "print(sxt_dt[5:10])"
   ]
  },
  {
   "cell_type": "markdown",
   "metadata": {},
   "source": [
    "Сравним accuracy"
   ]
  },
  {
   "cell_type": "code",
   "execution_count": 7,
   "metadata": {
    "scrolled": true
   },
   "outputs": [
    {
     "name": "stdout",
     "output_type": "stream",
     "text": [
      "DT: С использоваеним функции: 0.965034965034965\n",
      "DT: Без использования: 0.916083916083916\n",
      "\n",
      "LR: С использоваеним функции: 0.951048951048951\n",
      "LR: Без использования: 0.951048951048951\n"
     ]
    }
   ],
   "source": [
    "clf_dt.fit(X,y)\n",
    "pr=clf_dt.predict(Xt)\n",
    "print('DT: С использоваеним функции:', sklearn.metrics.accuracy_score(yt, sxt_dt))\n",
    "print('DT: Без использования:',sklearn.metrics.accuracy_score(yt, pr))\n",
    "print()\n",
    "\n",
    "clf_lr.fit(X,y)\n",
    "pr=clf_lr.predict(Xt)\n",
    "print('LR: С использоваеним функции:', sklearn.metrics.accuracy_score(yt, sxt_lr))\n",
    "print('LR: Без использования:',sklearn.metrics.accuracy_score(yt, pr))"
   ]
  },
  {
   "cell_type": "code",
   "execution_count": 33,
   "metadata": {},
   "outputs": [],
   "source": [
    "X_new=pd.DataFrame(np.transpose(np.concatenate([sx_dt,sx_lr]).reshape(2,426)))\n",
    "Xt_new=pd.DataFrame(np.transpose(np.concatenate([sxt_dt,sxt_lr]).reshape(2,143)))"
   ]
  },
  {
   "cell_type": "code",
   "execution_count": 34,
   "metadata": {},
   "outputs": [],
   "source": [
    "clf = sklearn.tree.K(random_state=0)"
   ]
  },
  {
   "cell_type": "code",
   "execution_count": 35,
   "metadata": {},
   "outputs": [
    {
     "data": {
      "text/plain": [
       "DecisionTreeClassifier(class_weight=None, criterion='gini', max_depth=None,\n",
       "            max_features=None, max_leaf_nodes=None,\n",
       "            min_impurity_decrease=0.0, min_impurity_split=None,\n",
       "            min_samples_leaf=1, min_samples_split=2,\n",
       "            min_weight_fraction_leaf=0.0, presort=False, random_state=0,\n",
       "            splitter='best')"
      ]
     },
     "execution_count": 35,
     "metadata": {},
     "output_type": "execute_result"
    }
   ],
   "source": [
    "clf.fit(X_new,y)"
   ]
  },
  {
   "cell_type": "code",
   "execution_count": 39,
   "metadata": {},
   "outputs": [
    {
     "name": "stdout",
     "output_type": "stream",
     "text": [
      "DT: С использоваеним функции: 0.951048951048951\n"
     ]
    }
   ],
   "source": [
    "pr=clf.predict(Xt_new)\n",
    "print('DT: С использоваеним функции:', sklearn.metrics.accuracy_score(yt, pr))"
   ]
  },
  {
   "cell_type": "markdown",
   "metadata": {},
   "source": [
    "#### method = 'predict_proba'"
   ]
  },
  {
   "cell_type": "code",
   "execution_count": 608,
   "metadata": {},
   "outputs": [
    {
     "name": "stdout",
     "output_type": "stream",
     "text": [
      "Done!\n",
      "Done!\n",
      "(426, 2) (143, 2)\n",
      "[[0.   1.  ]\n",
      " [0.   1.  ]\n",
      " [0.   1.  ]\n",
      " [1.   0.  ]\n",
      " [0.25 0.75]]\n",
      "[[1.         0.        ]\n",
      " [0.18571427 0.81428564]\n",
      " [0.         1.        ]\n",
      " [0.05       0.95      ]\n",
      " [0.         1.        ]]\n"
     ]
    }
   ],
   "source": [
    "sx_dt,sxt_dt=stack_pred(clf_dt,X,y,Xt,yt,5,'predict_proba')\n",
    "sx_lr,sxt_lr=stack_pred(clf_lr,X,y,Xt,yt,5,'predict_proba')\n",
    "print(sx_dt.shape,sxt_dt.shape)\n",
    "print(sx_dt[5:10])\n",
    "print(sxt_dt[:5])"
   ]
  },
  {
   "cell_type": "markdown",
   "metadata": {},
   "source": [
    "Сравним log_loss"
   ]
  },
  {
   "cell_type": "code",
   "execution_count": 609,
   "metadata": {
    "scrolled": true
   },
   "outputs": [
    {
     "name": "stdout",
     "output_type": "stream",
     "text": [
      "DT: С использоваеним функции: 0.08758764833837122\n",
      "DT: Без использования: 1.0657655994422166\n",
      "\n",
      "LR: С использоваеним функции: 0.10781664345334678\n",
      "LR: Без использования: 0.10668813181332457\n"
     ]
    }
   ],
   "source": [
    "clf_dt.fit(X,y)\n",
    "pr=clf_dt.predict_proba(Xt)\n",
    "print('DT: С использоваеним функции:', sklearn.metrics.log_loss(yt, sxt_dt))\n",
    "print('DT: Без использования:',sklearn.metrics.log_loss(yt, pr))\n",
    "print()\n",
    "\n",
    "clf_lr.fit(X,y)\n",
    "pr=clf_lr.predict_proba(Xt)\n",
    "print('LR: С использоваеним функции:', sklearn.metrics.log_loss(yt, sxt_lr))\n",
    "print('LR: Без использования:',sklearn.metrics.log_loss(yt, pr))"
   ]
  },
  {
   "cell_type": "markdown",
   "metadata": {},
   "source": [
    "## Конец"
   ]
  },
  {
   "cell_type": "code",
   "execution_count": 77,
   "metadata": {},
   "outputs": [],
   "source": [
    "def stack_pred(estimator,X,y,Xt,yt,k,method):\n",
    "    kf = sklearn.model_selection.KFold(n_splits=k, shuffle=True, random_state=0)\n",
    "    \n",
    "    ## Определим функцию голосования (в спорных моментах выигрывает класс имеющий наименьшее значение, то есть из [0,2,3] выигрывает 0)\n",
    "    def voting(x,classes):\n",
    "        buf = []\n",
    "        for row in x:\n",
    "            #print(row)\n",
    "            dct={}\n",
    "            for clas in classes:\n",
    "                dct[clas]=0\n",
    "            for i in row:\n",
    "                dct[i]+=1\n",
    "            #print(dct)\n",
    "            #print(max(dct,key=dct.get))\n",
    "            buf.append(max(dct,key=dct.get))\n",
    "        return np.array(buf,dtype='int32')\n",
    "\n",
    "\n",
    "    \n",
    "    ## Инициализируем стэкинги нулями, с размерностями, соответсвующими методам.\n",
    "    ## То есть одномерный вектор для predict и матрица вероятностей для predict_proba\n",
    "    \n",
    "    if method == 'predict':\n",
    "        sX=np.zeros(shape=(X.shape[0]),dtype='int32')\n",
    "        sXt=np.zeros(shape=(Xt.shape[0]),dtype='int32')\n",
    "        vote=np.zeros(shape=(Xt.shape[0]),dtype='int32')\n",
    "\n",
    "    elif method == 'predict_proba':\n",
    "        sX=np.zeros(shape=(X.shape[0],np.unique(y).shape[0]),dtype='float32')\n",
    "        sXt=np.zeros(shape=(Xt.shape[0],np.unique(y).shape[0]),dtype='float32')\n",
    "        vote=np.zeros(shape=(Xt.shape[0],np.unique(y).shape[0]),dtype='float32')\n",
    "        vote2=np.zeros(shape=(Xt.shape[0],np.unique(y).shape[0]),dtype='float32')\n",
    "\n",
    "\n",
    "\n",
    "    else:\n",
    "        print('Incorrect method!')\n",
    "        return -1\n",
    "    \n",
    "    \n",
    "    ## Осуществляем кросс-валидацию\n",
    "    \n",
    "    scores=[]\n",
    "    for train_index, test_index in kf.split(X):\n",
    "        X_train, X_test = X[train_index], X[test_index]\n",
    "        y_train, y_test = y[train_index], y[test_index]\n",
    "        estimator.fit(X_train, y_train)\n",
    "        \n",
    "        if method == 'predict':\n",
    "            pred = estimator.predict(X_test)\n",
    "            predt = estimator.predict(Xt)\n",
    "            vote = np.concatenate([vote,predt])\n",
    "            scores.append(sklearn.metrics.accuracy_score(yt, predt))\n",
    "\n",
    "        elif method == 'predict_proba':\n",
    "            pred = estimator.predict_proba(X_test)\n",
    "            predt = estimator.predict_proba(Xt)\n",
    "            vote += predt\n",
    "            vote2 += predt*sklearn.metrics.log_loss(yt, predt)\n",
    "            scores.append(sklearn.metrics.log_loss(yt, predt))\n",
    "        \n",
    "        ## Записваем результаты в наш трэйн-стэкинг.\n",
    "        sX[test_index]=pred\n",
    "    \n",
    "    \n",
    "    if method == 'predict': ## осущесвляем голосование по принцпу \"кто больше\"\n",
    "        scores=np.array(scores)\n",
    "        scores=scores/np.sum(scores)\n",
    "        print(scores)\n",
    "        vote = vote.reshape(k+1,yt.shape[0]) \n",
    "        vote = np.transpose(vote[1:])\n",
    "        vote = voting(vote,np.unique(y))\n",
    "        \n",
    "    elif method == 'predict_proba': ## смотрим среднее арифмитеческое вероятностей\n",
    "        scores=np.array(scores)\n",
    "        print(scores)\n",
    "        vote/=k\n",
    "        #vote=vote2/np.sum(scores)\n",
    "    \n",
    "    ## Записваем результаты в наш тест-стэкинг.       \n",
    "    sXt=vote\n",
    "    \n",
    "    print('Done!')\n",
    "    \n",
    "    return sX,sXt"
   ]
  },
  {
   "cell_type": "code",
   "execution_count": 78,
   "metadata": {},
   "outputs": [],
   "source": [
    "sc=[0.19822485, 0.20266272, 0.19822485, 0.20266272, 0.19822485]"
   ]
  },
  {
   "cell_type": "code",
   "execution_count": null,
   "metadata": {},
   "outputs": [],
   "source": []
  },
  {
   "cell_type": "code",
   "execution_count": 79,
   "metadata": {},
   "outputs": [],
   "source": [
    "X_full, y_full = sklearn.datasets.load_breast_cancer(return_X_y=True)"
   ]
  },
  {
   "cell_type": "code",
   "execution_count": 80,
   "metadata": {},
   "outputs": [],
   "source": [
    "X, Xt, y, yt = sklearn.model_selection.train_test_split(X_full, y_full, test_size=0.25, random_state=0)"
   ]
  },
  {
   "cell_type": "markdown",
   "metadata": {},
   "source": [
    "Рассмотрим в качестве примеров эстиматоров решающее дерево и логистическую регрессию."
   ]
  },
  {
   "cell_type": "code",
   "execution_count": 81,
   "metadata": {},
   "outputs": [],
   "source": [
    "clf_lr = sklearn.linear_model.LogisticRegression(solver='lbfgs',max_iter=3000)\n",
    "clf_dt = sklearn.tree.DecisionTreeClassifier(random_state=0, min_samples_split=8, min_samples_leaf=4)"
   ]
  },
  {
   "cell_type": "markdown",
   "metadata": {},
   "source": [
    "#### method = 'predict_proba'"
   ]
  },
  {
   "cell_type": "code",
   "execution_count": 82,
   "metadata": {},
   "outputs": [
    {
     "name": "stdout",
     "output_type": "stream",
     "text": [
      "[1.00206166 0.30328071 1.50872147 0.75568458 1.51493347]\n",
      "Done!\n",
      "[0.10252823 0.09703586 0.14209226 0.12652689 0.10348399]\n",
      "Done!\n",
      "(426, 2) (143, 2)\n",
      "[[0.   1.  ]\n",
      " [0.   1.  ]\n",
      " [0.   1.  ]\n",
      " [1.   0.  ]\n",
      " [0.25 0.75]]\n",
      "[[1.         0.        ]\n",
      " [0.18571427 0.81428564]\n",
      " [0.         1.        ]\n",
      " [0.05       0.95      ]\n",
      " [0.         1.        ]]\n"
     ]
    }
   ],
   "source": [
    "sx_dt,sxt_dt=stack_pred(clf_dt,X,y,Xt,yt,5,'predict_proba')\n",
    "sx_lr,sxt_lr=stack_pred(clf_lr,X,y,Xt,yt,5,'predict_proba')\n",
    "print(sx_dt.shape,sxt_dt.shape)\n",
    "print(sx_dt[5:10])\n",
    "print(sxt_dt[:5])"
   ]
  },
  {
   "cell_type": "markdown",
   "metadata": {},
   "source": [
    "Сравним log_loss"
   ]
  },
  {
   "cell_type": "code",
   "execution_count": 83,
   "metadata": {
    "scrolled": true
   },
   "outputs": [
    {
     "name": "stdout",
     "output_type": "stream",
     "text": [
      "DT: С использоваеним функции: 0.08758764833837122\n",
      "DT: Без использования: 1.0657655994422166\n",
      "\n",
      "LR: С использоваеним функции: 0.10781664345334678\n",
      "LR: Без использования: 0.10668813181332457\n"
     ]
    }
   ],
   "source": [
    "clf_dt.fit(X,y)\n",
    "pr=clf_dt.predict_proba(Xt)\n",
    "print('DT: С использоваеним функции:', sklearn.metrics.log_loss(yt, sxt_dt))\n",
    "print('DT: Без использования:',sklearn.metrics.log_loss(yt, pr))\n",
    "print()\n",
    "\n",
    "clf_lr.fit(X,y)\n",
    "pr=clf_lr.predict_proba(Xt)\n",
    "print('LR: С использоваеним функции:', sklearn.metrics.log_loss(yt, sxt_lr))\n",
    "print('LR: Без использования:',sklearn.metrics.log_loss(yt, pr))"
   ]
  }
 ],
 "metadata": {
  "kernelspec": {
   "display_name": "Python 3",
   "language": "python",
   "name": "python3"
  },
  "language_info": {
   "codemirror_mode": {
    "name": "ipython",
    "version": 3
   },
   "file_extension": ".py",
   "mimetype": "text/x-python",
   "name": "python",
   "nbconvert_exporter": "python",
   "pygments_lexer": "ipython3",
   "version": "3.6.6"
  }
 },
 "nbformat": 4,
 "nbformat_minor": 2
}
